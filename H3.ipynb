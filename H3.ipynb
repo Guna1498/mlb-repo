{
 "cells": [
  {
   "cell_type": "code",
   "execution_count": 1,
   "id": "45da0188",
   "metadata": {},
   "outputs": [],
   "source": [
    "import tensorflow as tf\n",
    "from tensorflow import keras\n",
    "from sklearn.model_selection import train_test_split\n",
    "from sklearn.metrics import accuracy_score, precision_score, recall_score, f1_score, confusion_matrix\n",
    "import numpy as np"
   ]
  },
  {
   "cell_type": "code",
   "execution_count": 5,
   "id": "f790ab08",
   "metadata": {},
   "outputs": [],
   "source": [
    "# Load your data and preprocess it\n",
    "X=np.load('ds_colorferet_emb.npy', allow_pickle=True)\n",
    "y=np.load('ds_colorferet_gender.npy', allow_pickle=True)"
   ]
  },
  {
   "cell_type": "code",
   "execution_count": 16,
   "id": "ebd2c18f",
   "metadata": {},
   "outputs": [],
   "source": [
    "y= np.where(y == 'Male', 1, 0)"
   ]
  },
  {
   "cell_type": "code",
   "execution_count": 11,
   "id": "3cabcd98",
   "metadata": {
    "scrolled": true
   },
   "outputs": [],
   "source": [
    "# Define the neural network architecture\n",
    "model = keras.Sequential([\n",
    "    keras.layers.Flatten(input_shape=(128,)),  # Flatten the input data\n",
    "    keras.layers.Dense(128, activation='relu'),       # Hidden layer with 128 neurons and ReLU activation\n",
    "    keras.layers.Dense(1, activation='sigmoid')       # Output layer with 1 neuron and sigmoid activation (binary classification)\n",
    "])"
   ]
  },
  {
   "cell_type": "code",
   "execution_count": 12,
   "id": "e2204f05",
   "metadata": {},
   "outputs": [],
   "source": [
    "# Compile the model\n",
    "model.compile(optimizer='adam',  # Adam optimizer\n",
    "              loss='binary_crossentropy',  # Binary cross-entropy loss for binary classification\n",
    "              metrics=['accuracy'])  # Monitor accuracy during training"
   ]
  },
  {
   "cell_type": "code",
   "execution_count": 19,
   "id": "32b512d0",
   "metadata": {},
   "outputs": [],
   "source": [
    "# Split the data into training and testing sets\n",
    "X_train, X_test, y_train, y_test = train_test_split(X, y, test_size=0.3, random_state=42)"
   ]
  },
  {
   "cell_type": "code",
   "execution_count": 23,
   "id": "6f631126",
   "metadata": {},
   "outputs": [
    {
     "name": "stdout",
     "output_type": "stream",
     "text": [
      "Epoch 1/10\n",
      "247/247 - 1s - loss: 0.3016 - accuracy: 0.9138 - 911ms/epoch - 4ms/step\n",
      "Epoch 2/10\n",
      "247/247 - 0s - loss: 0.1010 - accuracy: 0.9691 - 472ms/epoch - 2ms/step\n",
      "Epoch 3/10\n",
      "247/247 - 0s - loss: 0.0798 - accuracy: 0.9764 - 449ms/epoch - 2ms/step\n",
      "Epoch 4/10\n",
      "247/247 - 0s - loss: 0.0668 - accuracy: 0.9820 - 440ms/epoch - 2ms/step\n",
      "Epoch 5/10\n",
      "247/247 - 0s - loss: 0.0567 - accuracy: 0.9853 - 413ms/epoch - 2ms/step\n",
      "Epoch 6/10\n",
      "247/247 - 0s - loss: 0.0489 - accuracy: 0.9866 - 401ms/epoch - 2ms/step\n",
      "Epoch 7/10\n",
      "247/247 - 0s - loss: 0.0429 - accuracy: 0.9875 - 429ms/epoch - 2ms/step\n",
      "Epoch 8/10\n",
      "247/247 - 0s - loss: 0.0377 - accuracy: 0.9887 - 439ms/epoch - 2ms/step\n",
      "Epoch 9/10\n",
      "247/247 - 0s - loss: 0.0333 - accuracy: 0.9906 - 435ms/epoch - 2ms/step\n",
      "Epoch 10/10\n",
      "247/247 - 0s - loss: 0.0299 - accuracy: 0.9915 - 414ms/epoch - 2ms/step\n"
     ]
    },
    {
     "data": {
      "text/plain": [
       "<keras.callbacks.History at 0x2004cbe84c0>"
      ]
     },
     "execution_count": 23,
     "metadata": {},
     "output_type": "execute_result"
    }
   ],
   "source": [
    "y_train = y_train.astype(np.float32)\n",
    "y_test = y_test.astype(np.float32)\n",
    "# Train the model\n",
    "model.fit(X_train, y_train, epochs=10, batch_size=32, verbose=2)  # You can adjust the number of epochs and batch size"
   ]
  },
  {
   "cell_type": "code",
   "execution_count": 24,
   "id": "a05f60bb",
   "metadata": {},
   "outputs": [
    {
     "name": "stdout",
     "output_type": "stream",
     "text": [
      "106/106 [==============================] - 0s 2ms/step\n",
      "Accuracy: 0.9881831610044313\n",
      "Precision: 0.9903403863845446\n",
      "Recall: 0.9912523020257827\n",
      "F1 Score: 0.9907961343764381\n",
      "Confusion Matrix:\n",
      " [[1192   21]\n",
      " [  19 2153]]\n"
     ]
    }
   ],
   "source": [
    "# Evaluate the model on the testing data\n",
    "y_pred = (model.predict(X_test) > 0.5).astype(\"int32\")  # Convert predicted probabilities to binary labels\n",
    "\n",
    "# Calculate performance metrics\n",
    "accuracy = accuracy_score(y_test, y_pred)\n",
    "precision = precision_score(y_test, y_pred)\n",
    "recall = recall_score(y_test, y_pred)\n",
    "f1 = f1_score(y_test, y_pred)\n",
    "conf_matrix = confusion_matrix(y_test, y_pred)\n",
    "\n",
    "# Print the performance metrics\n",
    "print(\"Accuracy:\", accuracy)\n",
    "print(\"Precision:\", precision)\n",
    "print(\"Recall:\", recall)\n",
    "print(\"F1 Score:\", f1)\n",
    "print(\"Confusion Matrix:\\n\", conf_matrix)"
   ]
  }
 ],
 "metadata": {
  "kernelspec": {
   "display_name": "Python 3 (ipykernel)",
   "language": "python",
   "name": "python3"
  },
  "language_info": {
   "codemirror_mode": {
    "name": "ipython",
    "version": 3
   },
   "file_extension": ".py",
   "mimetype": "text/x-python",
   "name": "python",
   "nbconvert_exporter": "python",
   "pygments_lexer": "ipython3",
   "version": "3.9.13"
  }
 },
 "nbformat": 4,
 "nbformat_minor": 5
}
